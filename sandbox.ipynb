{
 "cells": [
  {
   "cell_type": "code",
   "execution_count": 16,
   "metadata": {
    "collapsed": true
   },
   "outputs": [],
   "source": [
    "import keras\n",
    "import numpy as np\n",
    "import tensorflow as tf"
   ]
  },
  {
   "cell_type": "code",
   "execution_count": 17,
   "metadata": {},
   "outputs": [
    {
     "name": "stdout",
     "output_type": "stream",
     "text": [
      "Help on class BasicLSTMCell in module tensorflow.contrib.rnn.python.ops.core_rnn_cell_impl:\n\nclass BasicLSTMCell(tensorflow.python.ops.rnn_cell_impl._RNNCell)\n |  Basic LSTM recurrent network cell.\n |  \n |  The implementation is based on: http://arxiv.org/abs/1409.2329.\n |  \n |  We add forget_bias (default: 1) to the biases of the forget gate in order to\n |  reduce the scale of forgetting in the beginning of the training.\n |  \n |  It does not allow cell clipping, a projection layer, and does not\n |  use peep-hole connections: it is the basic baseline.\n |  \n |  For advanced models, please use the full LSTMCell that follows.\n |  \n |  Method resolution order:\n |      BasicLSTMCell\n |      tensorflow.python.ops.rnn_cell_impl._RNNCell\n |      builtins.object\n |  \n |  Methods defined here:\n |  \n |  __call__(self, inputs, state, scope=None)\n |      Long short-term memory cell (LSTM).\n |  \n |  __init__(self, num_units, forget_bias=1.0, input_size=None, state_is_tuple=True, activation=<function tanh at 0x000002D717D26048>, reuse=None)\n |      Initialize the basic LSTM cell.\n |      \n |      Args:\n |        num_units: int, The number of units in the LSTM cell.\n |        forget_bias: float, The bias added to forget gates (see above).\n |        input_size: Deprecated and unused.\n |        state_is_tuple: If True, accepted and returned states are 2-tuples of\n |          the `c_state` and `m_state`.  If False, they are concatenated\n |          along the column axis.  The latter behavior will soon be deprecated.\n |        activation: Activation function of the inner states.\n |        reuse: (optional) Python boolean describing whether to reuse variables\n |          in an existing scope.  If not `True`, and the existing scope already has\n |          the given variables, an error is raised.\n |  \n |  ----------------------------------------------------------------------\n |  Data descriptors defined here:\n |  \n |  output_size\n |      Integer or TensorShape: size of outputs produced by this cell.\n |  \n |  state_size\n |      size(s) of state(s) used by this cell.\n |      \n |      It can be represented by an Integer, a TensorShape or a tuple of Integers\n |      or TensorShapes.\n |  \n |  ----------------------------------------------------------------------\n |  Methods inherited from tensorflow.python.ops.rnn_cell_impl._RNNCell:\n |  \n |  zero_state(self, batch_size, dtype)\n |      Return zero-filled state tensor(s).\n |      \n |      Args:\n |        batch_size: int, float, or unit Tensor representing the batch size.\n |        dtype: the data type to use for the state.\n |      \n |      Returns:\n |        If `state_size` is an int or TensorShape, then the return value is a\n |        `N-D` tensor of shape `[batch_size x state_size]` filled with zeros.\n |      \n |        If `state_size` is a nested list or tuple, then the return value is\n |        a nested list or tuple (of the same structure) of `2-D` tensors with\n |      the shapes `[batch_size x s]` for each s in `state_size`.\n |  \n |  ----------------------------------------------------------------------\n |  Data descriptors inherited from tensorflow.python.ops.rnn_cell_impl._RNNCell:\n |  \n |  __dict__\n |      dictionary for instance variables (if defined)\n |  \n |  __weakref__\n |      list of weak references to the object (if defined)\n\n"
     ]
    }
   ],
   "source": [
    "help(tf.contrib.rnn.BasicLSTMCell)"
   ]
  },
  {
   "cell_type": "code",
   "execution_count": 18,
   "metadata": {},
   "outputs": [
    {
     "name": "stdout",
     "output_type": "stream",
     "text": [
      "[ 0  1  2  3  4  5  6  7  8  9 10 11 12 13 14 15 16 17 18 19 20 21 22 23 24]"
     ]
    },
    {
     "name": "stdout",
     "output_type": "stream",
     "text": [
      "\n[ 0  2  4  6  8 10 12 14 16 18 20 22]\n"
     ]
    }
   ],
   "source": [
    "print(a)\n",
    "print(a[0:-1:2])"
   ]
  },
  {
   "cell_type": "code",
   "execution_count": 18,
   "metadata": {},
   "outputs": [
    {
     "name": "stdout",
     "output_type": "stream",
     "text": [
      "Help on function reshape in module numpy.core.fromnumeric:\n\nreshape(a, newshape, order='C')\n    Gives a new shape to an array without changing its data.\n    \n    Parameters\n    ----------\n    a : array_like\n        Array to be reshaped.\n    newshape : int or tuple of ints\n        The new shape should be compatible with the original shape. If\n        an integer, then the result will be a 1-D array of that length.\n        One shape dimension can be -1. In this case, the value is\n        inferred from the length of the array and remaining dimensions.\n    order : {'C', 'F', 'A'}, optional\n        Read the elements of `a` using this index order, and place the\n        elements into the reshaped array using this index order.  'C'\n        means to read / write the elements using C-like index order,\n        with the last axis index changing fastest, back to the first\n        axis index changing slowest. 'F' means to read / write the\n        elements using Fortran-like index order, with the first index\n        changing fastest, and the last index changing slowest. Note that\n        the 'C' and 'F' options take no account of the memory layout of\n        the underlying array, and only refer to the order of indexing.\n        'A' means to read / write the elements in Fortran-like index\n        order if `a` is Fortran *contiguous* in memory, C-like order\n        otherwise.\n    \n    Returns\n    -------\n    reshaped_array : ndarray\n        This will be a new view object if possible; otherwise, it will\n        be a copy.  Note there is no guarantee of the *memory layout* (C- or\n        Fortran- contiguous) of the returned array.\n    \n    See Also\n    --------\n    ndarray.reshape : Equivalent method.\n    \n    Notes\n    -----\n    It is not always possible to change the shape of an array without\n    copying the data. If you want an error to be raise if the data is copied,\n    you should assign the new shape to the shape attribute of the array::\n    \n     >>> a = np.zeros((10, 2))\n     # A transpose make the array non-contiguous\n     >>> b = a.T\n     # Taking a view makes it possible to modify the shape without modifying\n     # the initial object.\n     >>> c = b.view()\n     >>> c.shape = (20)\n     AttributeError: incompatible shape for a non-contiguous array\n    \n    The `order` keyword gives the index ordering both for *fetching* the values\n    from `a`, and then *placing* the values into the output array.\n    For example, let's say you have an array:\n    \n    >>> a = np.arange(6).reshape((3, 2))\n    >>> a\n    array([[0, 1],\n           [2, 3],\n           [4, 5]])\n    \n    You can think of reshaping as first raveling the array (using the given\n    index order), then inserting the elements from the raveled array into the\n    new array using the same kind of index ordering as was used for the\n    raveling.\n    \n    >>> np.reshape(a, (2, 3)) # C-like index ordering\n    array([[0, 1, 2],\n           [3, 4, 5]])\n    >>> np.reshape(np.ravel(a), (2, 3)) # equivalent to C ravel then C reshape\n    array([[0, 1, 2],\n           [3, 4, 5]])\n    >>> np.reshape(a, (2, 3), order='F') # Fortran-like index ordering\n    array([[0, 4, 3],\n           [2, 1, 5]])\n    >>> np.reshape(np.ravel(a, order='F'), (2, 3), order='F')\n    array([[0, 4, 3],\n           [2, 1, 5]])\n    \n    Examples\n    --------\n    >>> a = np.array([[1,2,3], [4,5,6]])\n    >>> np.reshape(a, 6)\n    array([1, 2, 3, 4, 5, 6])\n    >>> np.reshape(a, 6, order='F')\n    array([1, 4, 2, 5, 3, 6])\n    \n    >>> np.reshape(a, (3,-1))       # the unspecified value is inferred to be 2\n    array([[1, 2],\n           [3, 4],\n           [5, 6]])\n\n"
     ]
    }
   ],
   "source": [
    "help(np.reshape)"
   ]
  },
  {
   "cell_type": "code",
   "execution_count": 19,
   "metadata": {},
   "outputs": [],
   "source": [
    ""
   ]
  },
  {
   "cell_type": "code",
   "execution_count": null,
   "metadata": {},
   "outputs": [],
   "source": [
    ""
   ]
  }
 ],
 "metadata": {
  "kernelspec": {
   "display_name": "Python 2",
   "language": "python",
   "name": "python2"
  },
  "language_info": {
   "codemirror_mode": {
    "name": "ipython",
    "version": 2.0
   },
   "file_extension": ".py",
   "mimetype": "text/x-python",
   "name": "python",
   "nbconvert_exporter": "python",
   "pygments_lexer": "ipython2",
   "version": "2.7.6"
  }
 },
 "nbformat": 4,
 "nbformat_minor": 0
}